{
 "cells": [
  {
   "cell_type": "markdown",
   "metadata": {
    "collapsed": true
   },
   "source": [
    "# PageRank\n",
    "In this project, we'll build on our knowledge of eigenvectors and eigenvalues by exploring the PageRank algorithm.\n",
    "The project is in two parts, the first is a worksheet to get we up to speed with how the algorithm works - here we will look at a micro-internet with feour than 10 websites and see what it does and what can go wrong.\n",
    "The second is an assessment which will test our application of eigentheory to this problem by writing code and calculating the page rank of a large network representing a sub-section of the internet."
   ]
  },
  {
   "cell_type": "markdown",
   "metadata": {},
   "source": [
    "### Introduction\n",
    "\n",
    "PageRank (developed by Larry Page and Sergey Brin) revolutionized web search by generating a\n",
    "ranked list of web pages based on the underlying connectivity of the web. The PageRank algorithm is\n",
    "based on an ideal random web surfer who, when reaching a page, goes to the next page by clicking on a\n",
    "link. The surfer has equal probability of clicking any link on the page and, when reaching a page with no\n",
    "links, has equal probability of moving to any other page by typing in its URL. In addition, the surfer may\n",
    "occasionally choose to type in a random URL instead of following the links on a page. The PageRank is\n",
    "the ranked order of the pages from the most to the least probable page the surfer will be viewing.\n"
   ]
  },
  {
   "cell_type": "code",
   "execution_count": 1,
   "metadata": {},
   "outputs": [
    {
     "name": "stdout",
     "output_type": "stream",
     "text": [
      "Populating the interactive namespace from numpy and matplotlib\n"
     ]
    }
   ],
   "source": [
    "# Before we begin, let's load the libraries.\n",
    "%pylab project\n",
    "import numpy as np\n",
    "import numpy.linalg as la\n",
    "from readonly.PageRankFunctions import *\n",
    "np.set_printoptions(suppress=True)"
   ]
  },
  {
   "cell_type": "markdown",
   "metadata": {},
   "source": [
    "### PageRank as a linear algebra problem\n",
    "Let's imagine a micro-internet, with just 6 websites (**A**vocado, **B**ullseye, **C**atBabel, **D**romeda, **e**Tings, and **F**aceSpace).\n",
    "Each website links to some of the others, and this forms a network as shown,\n",
    "\n",
    "The design principle of PageRank is that important websites will be linked to by important websites.\n",
    "This somewhat recursive principle will form the basis of our thinking.\n",
    "\n",
    "Imagine we have 100 *Procrastinating Pat*s on our micro-internet, each viewing a single website at a time.\n",
    "Each minute the Pats follow a link on their website to another site on the micro-internet.\n",
    "After a while, the websites that are most linked to will have more Pats visiting them, and in the long run, each minute for every Pat that leaves a website, another will enter keeping the total numbers of Pats on each website constant.\n",
    "The PageRank is simply the ranking of websites by how many Pats they have on them at the end of this process.\n",
    "\n",
    "We represent the number of Pats on each website with the vector,\n",
    "$$\\mathbf{r} = \\begin{bmatrix} r_A \\\\ r_B \\\\ r_C \\\\ r_D \\\\ r_E \\\\ r_F \\end{bmatrix}$$\n",
    "And say that the number of Pats on each website in minute $i+1$ is related to those at minute $i$ by the matrix transformation\n",
    "\n",
    "$$ \\mathbf{r}^{(i+1)} = L \\,\\mathbf{r}^{(i)}$$\n",
    "with the matrix $L$ taking the form,\n",
    "$$ L = \\begin{bmatrix}\n",
    "L_{A→A} & L_{B→A} & L_{C→A} & L_{D→A} & L_{E→A} & L_{F→A} \\\\\n",
    "L_{A→B} & L_{B→B} & L_{C→B} & L_{D→B} & L_{E→B} & L_{F→B} \\\\\n",
    "L_{A→C} & L_{B→C} & L_{C→C} & L_{D→C} & L_{E→C} & L_{F→C} \\\\\n",
    "L_{A→D} & L_{B→D} & L_{C→D} & L_{D→D} & L_{E→D} & L_{F→D} \\\\\n",
    "L_{A→E} & L_{B→E} & L_{C→E} & L_{D→E} & L_{E→E} & L_{F→E} \\\\\n",
    "L_{A→F} & L_{B→F} & L_{C→F} & L_{D→F} & L_{E→F} & L_{F→F} \\\\\n",
    "\\end{bmatrix}\n",
    "$$\n",
    "where the columns represent the probability of leaving a website for any other website, and sum to one.\n",
    "The rows determine how likely we are to enter a website from any other, though these need not add to one.\n",
    "The long time behaviour of this system is when $ \\mathbf{r}^{(i+1)} = \\mathbf{r}^{(i)}$, so we'll drop the superscripts here, and that allows us to write,\n",
    "$$ L \\,\\mathbf{r} = \\mathbf{r}$$\n",
    "\n",
    "which is an eigenvalue equation for the matrix $L$, with eigenvalue 1 (this is guaranteed by the probabalistic structure of the matrix $L$).\n",
    "\n",
    "Complete the matrix $L$ below, we've left out the column for which websites the *FaceSpace* website (F) links to.\n",
    "Remember, this is the probability to click on another website from this one, so each column should add to one (by scaling by the number of links)."
   ]
  },
  {
   "cell_type": "code",
   "execution_count": 2,
   "metadata": {
    "collapsed": true
   },
   "outputs": [],
   "source": [
    "# Replace the ??? here with the probability of clicking a link to each website when leaving Website F (FaceSpace).\n",
    "L = np.array([[0,   1/2, 1/3, 0, 0,   0 ],\n",
    "              [1/3, 0,   0,   0, 1/2, 0 ],\n",
    "              [1/3, 1/2, 0,   1, 0,   1/2 ],\n",
    "              [1/3, 0,   1/3, 0, 1/2, 1/2 ],\n",
    "              [0,   0,   0,   0, 0,   0 ],\n",
    "              [0,   0,   1/3, 0, 0,   0 ]])"
   ]
  },
  {
   "cell_type": "markdown",
   "metadata": {},
   "source": [
    "In principle, we could use a linear algebra library, as below, to calculate the eigenvalues and vectors.\n",
    "And this would work for a small system. But this gets unmanagable for large systems.\n",
    "And since we only care about the principal eigenvector (the one with the largest eigenvalue, which will be 1 in this case), we can use the *Power iteration method* which will scale better, and is faster for large systems.\n",
    "\n",
    "Use the code below to peek at the PageRank for this micro-internet."
   ]
  },
  {
   "cell_type": "code",
   "execution_count": 3,
   "metadata": {},
   "outputs": [
    {
     "data": {
      "text/plain": [
       "array([ 16.        ,   5.33333333,  40.        ,  25.33333333,\n",
       "         0.        ,  13.33333333])"
      ]
     },
     "execution_count": 3,
     "metadata": {},
     "output_type": "execute_result"
    }
   ],
   "source": [
    "eVals, eVecs = la.eig(L) # Gets the eigenvalues and vectors\n",
    "order = np.absolute(eVals).argsort()[::-1] # Orders them by their eigenvalues\n",
    "eVals = eVals[order]\n",
    "eVecs = eVecs[:,order]\n",
    "\n",
    "r = eVecs[:, 0] # Sets r to be the principal eigenvector\n",
    "100 * np.real(r / np.sum(r)) # Make this eigenvector sum to one, then multiply by 100 Procrastinating Pats"
   ]
  },
  {
   "cell_type": "markdown",
   "metadata": {},
   "source": [
    "We can see from this list, the number of Procrastinating Pats that we expect to find on each website after long times.\n",
    "Putting them in order of *popularity* (based on this metric), the PageRank of this micro-internet is:\n",
    "\n",
    "**C**atBabel, **D**romeda, **A**vocado, **F**aceSpace, **B**ullseye, **e**Tings\n",
    "\n",
    "Referring back to the micro-internet diagram, is this what we would have expected?\n",
    "Convince ourself that based on which pages seem important given which others link to them, that this is a sensible ranking.\n",
    "\n",
    "Let's now try to get the same result using the Power-Iteration method.\n",
    "This method will be much better at dealing with large systems.\n",
    "\n",
    "First let's set up our initial vector, $\\mathbf{r}^{(0)}$, so that we have our 100 Procrastinating Pats equally distributed on each of our 6 websites."
   ]
  },
  {
   "cell_type": "code",
   "execution_count": 4,
   "metadata": {},
   "outputs": [
    {
     "data": {
      "text/plain": [
       "array([ 16.66666667,  16.66666667,  16.66666667,  16.66666667,\n",
       "        16.66666667,  16.66666667])"
      ]
     },
     "execution_count": 4,
     "metadata": {},
     "output_type": "execute_result"
    }
   ],
   "source": [
    "r = 100 * np.ones(6) / 6 # Sets up this vector (6 entries of 1/6 × 100 each)\n",
    "r # Shows it's value"
   ]
  },
  {
   "cell_type": "markdown",
   "metadata": {},
   "source": [
    "Next, let's update the vector to the next minute, with the matrix $L$.\n",
    "Run the following cell multiple times, until the ansour stabilises."
   ]
  },
  {
   "cell_type": "code",
   "execution_count": 5,
   "metadata": {},
   "outputs": [
    {
     "data": {
      "text/plain": [
       "array([ 13.88888889,  13.88888889,  38.88888889,  27.77777778,\n",
       "         0.        ,   5.55555556])"
      ]
     },
     "execution_count": 5,
     "metadata": {},
     "output_type": "execute_result"
    }
   ],
   "source": [
    "r = L @ r # Apply matrix L to r\n",
    "r # Show it's value\n",
    "# Re-run this cell multiple times to converge to the correct ansour."
   ]
  },
  {
   "cell_type": "markdown",
   "metadata": {},
   "source": [
    "We can automate applying this matrix multiple times as follows,"
   ]
  },
  {
   "cell_type": "code",
   "execution_count": 6,
   "metadata": {},
   "outputs": [
    {
     "data": {
      "text/plain": [
       "array([ 16.        ,   5.33333333,  40.        ,  25.33333333,\n",
       "         0.        ,  13.33333333])"
      ]
     },
     "execution_count": 6,
     "metadata": {},
     "output_type": "execute_result"
    }
   ],
   "source": [
    "r = 100 * np.ones(6) / 6 # Sets up this vector (6 entries of 1/6 × 100 each)\n",
    "for i in np.arange(100) : # Repeat 100 times\n",
    "    r = L @ r\n",
    "r"
   ]
  },
  {
   "cell_type": "markdown",
   "metadata": {},
   "source": [
    "Or even better, we can keep running until we get to the required tolerance."
   ]
  },
  {
   "cell_type": "code",
   "execution_count": 7,
   "metadata": {},
   "outputs": [
    {
     "name": "stdout",
     "output_type": "stream",
     "text": [
      "18 iterations to convergence.\n"
     ]
    },
    {
     "data": {
      "text/plain": [
       "array([ 16.00149917,   5.33252025,  39.99916911,  25.3324738 ,\n",
       "         0.        ,  13.33433767])"
      ]
     },
     "execution_count": 7,
     "metadata": {},
     "output_type": "execute_result"
    }
   ],
   "source": [
    "r = 100 * np.ones(6) / 6 # Sets up this vector (6 entries of 1/6 × 100 each)\n",
    "lastR = r\n",
    "r = L @ r\n",
    "i = 0\n",
    "while la.norm(lastR - r) > 0.01 :\n",
    "    lastR = r\n",
    "    r = L @ r\n",
    "    i += 1\n",
    "print(str(i) + \" iterations to convergence.\")\n",
    "r"
   ]
  },
  {
   "cell_type": "markdown",
   "metadata": {},
   "source": [
    "See how the PageRank order is established fairly quickly, and the vector converges on the value we calculated earlier after a few tens of repeats.\n",
    "\n",
    "We've just calculated our first PageRank!"
   ]
  },
  {
   "cell_type": "markdown",
   "metadata": {},
   "source": [
    "### Damping Parameter\n",
    "The system we just studied converged fairly quickly to the correct ansour.\n",
    "Let's consider an extension to our micro-internet where things start to go wrong.\n",
    "\n",
    "Say a new website is added to the micro-internet: *Geoff's* Website.\n",
    "This website is linked to by *FaceSpace* and only links to itself.\n",
    "\n",
    "Intuitively, only *FaceSpace*, which is in the bottom half of the page rank, links to this website amongst the two others it links to,\n",
    "so we might expect *Geoff's* site to have a correspondingly low PageRank score.\n",
    "\n",
    "Build the new $L$ matrix for the expanded micro-internet, and use Power-Iteration on the Procrastinating Pat vector.\n",
    "See what happens…"
   ]
  },
  {
   "cell_type": "code",
   "execution_count": 12,
   "metadata": {
    "collapsed": true
   },
   "outputs": [],
   "source": [
    " # We'll call this one L2, to distinguish it from the previous L.\n",
    "L2 = np.array([[0,   1/2, 1/3, 0, 0,   0, 0 ],\n",
    "               [1/3, 0,   0,   0, 1/2, 0, 0 ],\n",
    "               [1/3, 1/2, 0,   1, 0,   1/3, 0 ],\n",
    "               [1/3, 0,   1/3, 0, 1/2, 1/3, 0 ],\n",
    "               [0,   0,   0,   0, 0,   0, 0 ],\n",
    "               [0,   0,   1/3, 0, 0,   0, 0 ],\n",
    "               [0,   0,   0,   0, 0,   1/3, 1 ]])"
   ]
  },
  {
   "cell_type": "code",
   "execution_count": 13,
   "metadata": {},
   "outputs": [
    {
     "name": "stdout",
     "output_type": "stream",
     "text": [
      "131 iterations to convergence.\n"
     ]
    },
    {
     "data": {
      "text/plain": [
       "array([  0.03046998,   0.01064323,   0.07126612,   0.04423198,\n",
       "         0.        ,   0.02489342,  99.81849527])"
      ]
     },
     "execution_count": 13,
     "metadata": {},
     "output_type": "execute_result"
    }
   ],
   "source": [
    "r = 100 * np.ones(7) / 7 # Sets up this vector (6 entries of 1/6 × 100 each)\n",
    "lastR = r\n",
    "r = L2 @ r\n",
    "i = 0\n",
    "while la.norm(lastR - r) > 0.01 :\n",
    "    lastR = r\n",
    "    r = L2 @ r\n",
    "    i += 1\n",
    "print(str(i) + \" iterations to convergence.\")\n",
    "r"
   ]
  },
  {
   "cell_type": "markdown",
   "metadata": {},
   "source": [
    "That's no good! *Geoff* seems to be taking all the traffic on the micro-internet, and somehow coming at the top of the PageRank.\n",
    "This behaviour can be understood, because once a Pat get's to *Geoff's* Website, they can't leave, as all links head back to Geoff.\n",
    "\n",
    "To combat this, we can add a small probability that the Procrastinating Pats don't follow any link on a webpage, but instead visit a website on the micro-internet at random.\n",
    "We'll say the probability of them following a link is $d$ and the probability of choosing a random website is therefore $1-d$.\n",
    "We can use a new matrix to work out where the Pat's visit each minute.\n",
    "$$ M = d \\, L + \\frac{1-d}{n} \\, J $$\n",
    "where $J$ is an $n\\times n$ matrix where every element is one.\n",
    "\n",
    "If $d$ is one, we have the case we had previously, whereas if $d$ is zero, we will always visit a random webpage and therefore all webpages will be equally likely and equally ranked.\n",
    "For this extension to work best, $1-d$ should be somewhat small - though we won't go into a discussion about exactly how small.\n",
    "\n",
    "Let's retry this PageRank with this extension."
   ]
  },
  {
   "cell_type": "code",
   "execution_count": 14,
   "metadata": {
    "collapsed": true
   },
   "outputs": [],
   "source": [
    "d = 0.5 # Feel free to play with this parameter after running the code once.\n",
    "M = d * L2 + (1-d)/7 * np.ones([7, 7]) # np.ones() is the J matrix, with ones for each entry."
   ]
  },
  {
   "cell_type": "code",
   "execution_count": 15,
   "metadata": {},
   "outputs": [
    {
     "name": "stdout",
     "output_type": "stream",
     "text": [
      "8 iterations to convergence.\n"
     ]
    },
    {
     "data": {
      "text/plain": [
       "array([ 13.68217054,  11.20902965,  22.41964343,  16.7593433 ,\n",
       "         7.14285714,  10.87976354,  17.90719239])"
      ]
     },
     "execution_count": 15,
     "metadata": {},
     "output_type": "execute_result"
    }
   ],
   "source": [
    "r = 100 * np.ones(7) / 7 # Sets up this vector (6 entries of 1/6 × 100 each)\n",
    "lastR = r\n",
    "r = M @ r\n",
    "i = 0\n",
    "while la.norm(lastR - r) > 0.01 :\n",
    "    lastR = r\n",
    "    r = M @ r\n",
    "    i += 1\n",
    "print(str(i) + \" iterations to convergence.\")\n",
    "r"
   ]
  },
  {
   "cell_type": "markdown",
   "metadata": {},
   "source": [
    "This is certainly better, the PageRank gives sensible numbers for the Procrastinating Pats that end up on each webpage.\n",
    "This method still predicts Geoff has a high ranking webpage however.\n",
    "This could be seen as a consequence of using a small network. We could also get around the problem by not counting self-links when producing the L matrix (an if a website has no outgoing links, make it link to all websites equally).\n",
    "We won't look further down this route, as this is in the realm of improvements to PageRank, rather than eigenproblems.\n",
    "\n",
    "we are now in a good position, having gained an understanding of PageRank, to produce our own code to calculate the PageRank of a website with thousands of entries.\n"
   ]
  },
  {
   "cell_type": "code",
   "execution_count": 16,
   "metadata": {
    "collapsed": true
   },
   "outputs": [],
   "source": [
    "# PACKAGE\n",
    "# Here are the imports again, just in case we need them.\n",
    "# There is no need to edit or submit this cell.\n",
    "import numpy as np\n",
    "import numpy.linalg as la\n",
    "from readonly.PageRankFunctions import *\n",
    "np.set_printoptions(suppress=True)"
   ]
  },
  {
   "cell_type": "code",
   "execution_count": 17,
   "metadata": {
    "collapsed": true
   },
   "outputs": [],
   "source": [
    "# \n",
    "# Complete this function to provide the PageRank for an arbitrarily sized internet.\n",
    "# I.e. the principal eigenvector of the damped system, using the Power iteration method.\n",
    "# (Normalisation doesn't matter here)\n",
    "# The functions inputs are the linkMatrix, and d the damping parameter - as defined in this worksheet.\n",
    "# (The damping parameter, d, will be set by the function - no need to set this ourself.)\n",
    "def pageRank(linkMatrix, d) :\n",
    "    n = linkMatrix.shape[0]\n",
    "    M = d * linkMatrix + (1-d)/n * np.ones([n, n])\n",
    "    r = 100 * np.ones(n) / n # Sets up this vector (n entries of 1/n × 100 each)\n",
    "    lastR = r\n",
    "    r = M @ r\n",
    "    i = 0\n",
    "    while la.norm(lastR - r) > 0.01 :\n",
    "        lastR = r\n",
    "        r = M @ r\n",
    "        i += 1\n",
    "    print(str(i) + \" iterations to convergence.\")\n",
    "    return r\n"
   ]
  },
  {
   "cell_type": "markdown",
   "metadata": {},
   "source": [
    "## Test code\n",
    "To test the code we've written above, run the cell (select the cell above, then press the play button [ ▶| ] or press shift-enter).\n",
    "we can then use the code below to test out our function.\n",
    "we don't need to submit this cell; we can edit and run it as much as we like."
   ]
  },
  {
   "cell_type": "code",
   "execution_count": 18,
   "metadata": {},
   "outputs": [
    {
     "data": {
      "text/plain": [
       "array([[ 0. ,  0. ,  0. ,  0. ,  0.2],\n",
       "       [ 0. ,  0. ,  0. ,  0. ,  0.2],\n",
       "       [ 1. ,  0. ,  0.5,  0. ,  0.2],\n",
       "       [ 0. ,  0. ,  0.5,  1. ,  0.2],\n",
       "       [ 0. ,  1. ,  0. ,  0. ,  0.2]])"
      ]
     },
     "execution_count": 18,
     "metadata": {},
     "output_type": "execute_result"
    }
   ],
   "source": [
    "# Use the following function to generate internets of different sizes.\n",
    "generate_internet(5)"
   ]
  },
  {
   "cell_type": "code",
   "execution_count": 19,
   "metadata": {
    "collapsed": true
   },
   "outputs": [],
   "source": [
    "# Test our PageRank method against the built in \"eig\" method.\n",
    "# we should see ours is a lot faster for large internets\n",
    "L = generate_internet(10)"
   ]
  },
  {
   "cell_type": "code",
   "execution_count": 20,
   "metadata": {},
   "outputs": [
    {
     "name": "stdout",
     "output_type": "stream",
     "text": [
      "7 iterations to convergence.\n"
     ]
    },
    {
     "data": {
      "text/plain": [
       "array([  7.84354296,  11.76578066,   5.8824241 ,   7.84354296,\n",
       "         5.8824241 ,  15.68453518,   7.84354296,  19.60677289,\n",
       "        11.7650101 ,   5.8824241 ])"
      ]
     },
     "execution_count": 20,
     "metadata": {},
     "output_type": "execute_result"
    }
   ],
   "source": [
    "pageRank(L, 1)"
   ]
  },
  {
   "cell_type": "code",
   "execution_count": 21,
   "metadata": {},
   "outputs": [
    {
     "data": {
      "text/plain": [
       "array([  7.84313726,  11.76470588,   5.88235294,   7.84313726,\n",
       "         5.88235294,  15.6862745 ,   7.84313726,  19.60784313,\n",
       "        11.76470588,   5.88235294])"
      ]
     },
     "execution_count": 21,
     "metadata": {},
     "output_type": "execute_result"
    }
   ],
   "source": [
    "# Do note, this is calculating the eigenvalues of the link matrix, L,\n",
    "# without any damping. It may give different results that our pageRank function.\n",
    "# If we wish, we could modify this cell to include damping.\n",
    "# (There is no credit for this though)\n",
    "eVals, eVecs = la.eig(L) # Gets the eigenvalues and vectors\n",
    "order = np.absolute(eVals).argsort()[::-1] # Orders them by their eigenvalues\n",
    "eVals = eVals[order]\n",
    "eVecs = eVecs[:,order]\n",
    "\n",
    "r = eVecs[:, 0]\n",
    "100 * np.real(r / np.sum(r))"
   ]
  },
  {
   "cell_type": "code",
   "execution_count": 22,
   "metadata": {},
   "outputs": [
    {
     "name": "stdout",
     "output_type": "stream",
     "text": [
      "Populating the interactive namespace from numpy and matplotlib\n",
      "35 iterations to convergence.\n"
     ]
    },
    {
     "data": {
      "application/javascript": "/* Put everything inside the global mpl namespace */\nwindow.mpl = {};\n\n\nmpl.get_websocket_type = function() {\n    if (typeof(WebSocket) !== 'undefined') {\n        return WebSocket;\n    } else if (typeof(MozWebSocket) !== 'undefined') {\n        return MozWebSocket;\n    } else {\n        alert('Your browser does not have WebSocket support.' +\n              'Please try Chrome, Safari or Firefox ≥ 6. ' +\n              'Firefox 4 and 5 are also supported but you ' +\n              'have to enable WebSockets in about:config.');\n    };\n}\n\nmpl.figure = function(figure_id, websocket, ondownload, parent_element) {\n    this.id = figure_id;\n\n    this.ws = websocket;\n\n    this.supports_binary = (this.ws.binaryType != undefined);\n\n    if (!this.supports_binary) {\n        var warnings = document.getElementById(\"mpl-warnings\");\n        if (warnings) {\n            warnings.style.display = 'block';\n            warnings.textContent = (\n                \"This browser does not support binary websocket messages. \" +\n                    \"Performance may be slow.\");\n        }\n    }\n\n    this.imageObj = new Image();\n\n    this.context = undefined;\n    this.message = undefined;\n    this.canvas = undefined;\n    this.rubberband_canvas = undefined;\n    this.rubberband_context = undefined;\n    this.format_dropdown = undefined;\n\n    this.image_mode = 'full';\n\n    this.root = $('<div/>');\n    this._root_extra_style(this.root)\n    this.root.attr('style', 'display: inline-block');\n\n    $(parent_element).append(this.root);\n\n    this._init_header(this);\n    this._init_canvas(this);\n    this._init_toolbar(this);\n\n    var fig = this;\n\n    this.waiting = false;\n\n    this.ws.onopen =  function () {\n            fig.send_message(\"supports_binary\", {value: fig.supports_binary});\n            fig.send_message(\"send_image_mode\", {});\n            if (mpl.ratio != 1) {\n                fig.send_message(\"set_dpi_ratio\", {'dpi_ratio': mpl.ratio});\n            }\n            fig.send_message(\"refresh\", {});\n        }\n\n    this.imageObj.onload = function() {\n            if (fig.image_mode == 'full') {\n                // Full images could contain transparency (where diff images\n                // almost always do), so we need to clear the canvas so that\n                // there is no ghosting.\n                fig.context.clearRect(0, 0, fig.canvas.width, fig.canvas.height);\n            }\n            fig.context.drawImage(fig.imageObj, 0, 0);\n        };\n\n    this.imageObj.onunload = function() {\n        this.ws.close();\n    }\n\n    this.ws.onmessage = this._make_on_message_function(this);\n\n    this.ondownload = ondownload;\n}\n\nmpl.figure.prototype._init_header = function() {\n    var titlebar = $(\n        '<div class=\"ui-dialog-titlebar ui-widget-header ui-corner-all ' +\n        'ui-helper-clearfix\"/>');\n    var titletext = $(\n        '<div class=\"ui-dialog-title\" style=\"width: 100%; ' +\n        'text-align: center; padding: 3px;\"/>');\n    titlebar.append(titletext)\n    this.root.append(titlebar);\n    this.header = titletext[0];\n}\n\n\n\nmpl.figure.prototype._canvas_extra_style = function(canvas_div) {\n\n}\n\n\nmpl.figure.prototype._root_extra_style = function(canvas_div) {\n\n}\n\nmpl.figure.prototype._init_canvas = function() {\n    var fig = this;\n\n    var canvas_div = $('<div/>');\n\n    canvas_div.attr('style', 'position: relative; clear: both; outline: 0');\n\n    function canvas_keyboard_event(event) {\n        return fig.key_event(event, event['data']);\n    }\n\n    canvas_div.keydown('key_press', canvas_keyboard_event);\n    canvas_div.keyup('key_release', canvas_keyboard_event);\n    this.canvas_div = canvas_div\n    this._canvas_extra_style(canvas_div)\n    this.root.append(canvas_div);\n\n    var canvas = $('<canvas/>');\n    canvas.addClass('mpl-canvas');\n    canvas.attr('style', \"left: 0; top: 0; z-index: 0; outline: 0\")\n\n    this.canvas = canvas[0];\n    this.context = canvas[0].getContext(\"2d\");\n\n    var backingStore = this.context.backingStorePixelRatio ||\n\tthis.context.webkitBackingStorePixelRatio ||\n\tthis.context.mozBackingStorePixelRatio ||\n\tthis.context.msBackingStorePixelRatio ||\n\tthis.context.oBackingStorePixelRatio ||\n\tthis.context.backingStorePixelRatio || 1;\n\n    mpl.ratio = (window.devicePixelRatio || 1) / backingStore;\n\n    var rubberband = $('<canvas/>');\n    rubberband.attr('style', \"position: absolute; left: 0; top: 0; z-index: 1;\")\n\n    var pass_mouse_events = true;\n\n    canvas_div.resizable({\n        start: function(event, ui) {\n            pass_mouse_events = false;\n        },\n        resize: function(event, ui) {\n            fig.request_resize(ui.size.width, ui.size.height);\n        },\n        stop: function(event, ui) {\n            pass_mouse_events = true;\n            fig.request_resize(ui.size.width, ui.size.height);\n        },\n    });\n\n    function mouse_event_fn(event) {\n        if (pass_mouse_events)\n            return fig.mouse_event(event, event['data']);\n    }\n\n    rubberband.mousedown('button_press', mouse_event_fn);\n    rubberband.mouseup('button_release', mouse_event_fn);\n    // Throttle sequential mouse events to 1 every 20ms.\n    rubberband.mousemove('motion_notify', mouse_event_fn);\n\n    rubberband.mouseenter('figure_enter', mouse_event_fn);\n    rubberband.mouseleave('figure_leave', mouse_event_fn);\n\n    canvas_div.on(\"wheel\", function (event) {\n        event = event.originalEvent;\n        event['data'] = 'scroll'\n        if (event.deltaY < 0) {\n            event.step = 1;\n        } else {\n            event.step = -1;\n        }\n        mouse_event_fn(event);\n    });\n\n    canvas_div.append(canvas);\n    canvas_div.append(rubberband);\n\n    this.rubberband = rubberband;\n    this.rubberband_canvas = rubberband[0];\n    this.rubberband_context = rubberband[0].getContext(\"2d\");\n    this.rubberband_context.strokeStyle = \"#000000\";\n\n    this._resize_canvas = function(width, height) {\n        // Keep the size of the canvas, canvas container, and rubber band\n        // canvas in synch.\n        canvas_div.css('width', width)\n        canvas_div.css('height', height)\n\n        canvas.attr('width', width * mpl.ratio);\n        canvas.attr('height', height * mpl.ratio);\n        canvas.attr('style', 'width: ' + width + 'px; height: ' + height + 'px;');\n\n        rubberband.attr('width', width);\n        rubberband.attr('height', height);\n    }\n\n    // Set the figure to an initial 600x600px, this will subsequently be updated\n    // upon first draw.\n    this._resize_canvas(600, 600);\n\n    // Disable right mouse context menu.\n    $(this.rubberband_canvas).bind(\"contextmenu\",function(e){\n        return false;\n    });\n\n    function set_focus () {\n        canvas.focus();\n        canvas_div.focus();\n    }\n\n    window.setTimeout(set_focus, 100);\n}\n\nmpl.figure.prototype._init_toolbar = function() {\n    var fig = this;\n\n    var nav_element = $('<div/>')\n    nav_element.attr('style', 'width: 100%');\n    this.root.append(nav_element);\n\n    // Define a callback function for later on.\n    function toolbar_event(event) {\n        return fig.toolbar_button_onclick(event['data']);\n    }\n    function toolbar_mouse_event(event) {\n        return fig.toolbar_button_onmouseover(event['data']);\n    }\n\n    for(var toolbar_ind in mpl.toolbar_items) {\n        var name = mpl.toolbar_items[toolbar_ind][0];\n        var tooltip = mpl.toolbar_items[toolbar_ind][1];\n        var image = mpl.toolbar_items[toolbar_ind][2];\n        var method_name = mpl.toolbar_items[toolbar_ind][3];\n\n        if (!name) {\n            // put a spacer in here.\n            continue;\n        }\n        var button = $('<button/>');\n        button.addClass('ui-button ui-widget ui-state-default ui-corner-all ' +\n                        'ui-button-icon-only');\n        button.attr('role', 'button');\n        button.attr('aria-disabled', 'false');\n        button.click(method_name, toolbar_event);\n        button.mouseover(tooltip, toolbar_mouse_event);\n\n        var icon_img = $('<span/>');\n        icon_img.addClass('ui-button-icon-primary ui-icon');\n        icon_img.addClass(image);\n        icon_img.addClass('ui-corner-all');\n\n        var tooltip_span = $('<span/>');\n        tooltip_span.addClass('ui-button-text');\n        tooltip_span.html(tooltip);\n\n        button.append(icon_img);\n        button.append(tooltip_span);\n\n        nav_element.append(button);\n    }\n\n    var fmt_picker_span = $('<span/>');\n\n    var fmt_picker = $('<select/>');\n    fmt_picker.addClass('mpl-toolbar-option ui-widget ui-widget-content');\n    fmt_picker_span.append(fmt_picker);\n    nav_element.append(fmt_picker_span);\n    this.format_dropdown = fmt_picker[0];\n\n    for (var ind in mpl.extensions) {\n        var fmt = mpl.extensions[ind];\n        var option = $(\n            '<option/>', {selected: fmt === mpl.default_extension}).html(fmt);\n        fmt_picker.append(option)\n    }\n\n    // Add hover states to the ui-buttons\n    $( \".ui-button\" ).hover(\n        function() { $(this).addClass(\"ui-state-hover\");},\n        function() { $(this).removeClass(\"ui-state-hover\");}\n    );\n\n    var status_bar = $('<span class=\"mpl-message\"/>');\n    nav_element.append(status_bar);\n    this.message = status_bar[0];\n}\n\nmpl.figure.prototype.request_resize = function(x_pixels, y_pixels) {\n    // Request matplotlib to resize the figure. Matplotlib will then trigger a resize in the client,\n    // which will in turn request a refresh of the image.\n    this.send_message('resize', {'width': x_pixels, 'height': y_pixels});\n}\n\nmpl.figure.prototype.send_message = function(type, properties) {\n    properties['type'] = type;\n    properties['figure_id'] = this.id;\n    this.ws.send(JSON.stringify(properties));\n}\n\nmpl.figure.prototype.send_draw_message = function() {\n    if (!this.waiting) {\n        this.waiting = true;\n        this.ws.send(JSON.stringify({type: \"draw\", figure_id: this.id}));\n    }\n}\n\n\nmpl.figure.prototype.handle_save = function(fig, msg) {\n    var format_dropdown = fig.format_dropdown;\n    var format = format_dropdown.options[format_dropdown.selectedIndex].value;\n    fig.ondownload(fig, format);\n}\n\n\nmpl.figure.prototype.handle_resize = function(fig, msg) {\n    var size = msg['size'];\n    if (size[0] != fig.canvas.width || size[1] != fig.canvas.height) {\n        fig._resize_canvas(size[0], size[1]);\n        fig.send_message(\"refresh\", {});\n    };\n}\n\nmpl.figure.prototype.handle_rubberband = function(fig, msg) {\n    var x0 = msg['x0'] / mpl.ratio;\n    var y0 = (fig.canvas.height - msg['y0']) / mpl.ratio;\n    var x1 = msg['x1'] / mpl.ratio;\n    var y1 = (fig.canvas.height - msg['y1']) / mpl.ratio;\n    x0 = Math.floor(x0) + 0.5;\n    y0 = Math.floor(y0) + 0.5;\n    x1 = Math.floor(x1) + 0.5;\n    y1 = Math.floor(y1) + 0.5;\n    var min_x = Math.min(x0, x1);\n    var min_y = Math.min(y0, y1);\n    var width = Math.abs(x1 - x0);\n    var height = Math.abs(y1 - y0);\n\n    fig.rubberband_context.clearRect(\n        0, 0, fig.canvas.width, fig.canvas.height);\n\n    fig.rubberband_context.strokeRect(min_x, min_y, width, height);\n}\n\nmpl.figure.prototype.handle_figure_label = function(fig, msg) {\n    // Updates the figure title.\n    fig.header.textContent = msg['label'];\n}\n\nmpl.figure.prototype.handle_cursor = function(fig, msg) {\n    var cursor = msg['cursor'];\n    switch(cursor)\n    {\n    case 0:\n        cursor = 'pointer';\n        break;\n    case 1:\n        cursor = 'default';\n        break;\n    case 2:\n        cursor = 'crosshair';\n        break;\n    case 3:\n        cursor = 'move';\n        break;\n    }\n    fig.rubberband_canvas.style.cursor = cursor;\n}\n\nmpl.figure.prototype.handle_message = function(fig, msg) {\n    fig.message.textContent = msg['message'];\n}\n\nmpl.figure.prototype.handle_draw = function(fig, msg) {\n    // Request the server to send over a new figure.\n    fig.send_draw_message();\n}\n\nmpl.figure.prototype.handle_image_mode = function(fig, msg) {\n    fig.image_mode = msg['mode'];\n}\n\nmpl.figure.prototype.updated_canvas_event = function() {\n    // Called whenever the canvas gets updated.\n    this.send_message(\"ack\", {});\n}\n\n// A function to construct a web socket function for onmessage handling.\n// Called in the figure constructor.\nmpl.figure.prototype._make_on_message_function = function(fig) {\n    return function socket_on_message(evt) {\n        if (evt.data instanceof Blob) {\n            /* FIXME: We get \"Resource interpreted as Image but\n             * transferred with MIME type text/plain:\" errors on\n             * Chrome.  But how to set the MIME type?  It doesn't seem\n             * to be part of the websocket stream */\n            evt.data.type = \"image/png\";\n\n            /* Free the memory for the previous frames */\n            if (fig.imageObj.src) {\n                (window.URL || window.webkitURL).revokeObjectURL(\n                    fig.imageObj.src);\n            }\n\n            fig.imageObj.src = (window.URL || window.webkitURL).createObjectURL(\n                evt.data);\n            fig.updated_canvas_event();\n            fig.waiting = false;\n            return;\n        }\n        else if (typeof evt.data === 'string' && evt.data.slice(0, 21) == \"data:image/png;base64\") {\n            fig.imageObj.src = evt.data;\n            fig.updated_canvas_event();\n            fig.waiting = false;\n            return;\n        }\n\n        var msg = JSON.parse(evt.data);\n        var msg_type = msg['type'];\n\n        // Call the  \"handle_{type}\" callback, which takes\n        // the figure and JSON message as its only arguments.\n        try {\n            var callback = fig[\"handle_\" + msg_type];\n        } catch (e) {\n            console.log(\"No handler for the '\" + msg_type + \"' message type: \", msg);\n            return;\n        }\n\n        if (callback) {\n            try {\n                // console.log(\"Handling '\" + msg_type + \"' message: \", msg);\n                callback(fig, msg);\n            } catch (e) {\n                console.log(\"Exception inside the 'handler_\" + msg_type + \"' callback:\", e, e.stack, msg);\n            }\n        }\n    };\n}\n\n// from http://stackoverflow.com/questions/1114465/getting-mouse-location-in-canvas\nmpl.findpos = function(e) {\n    //this section is from http://www.quirksmode.org/js/events_properties.html\n    var targ;\n    if (!e)\n        e = window.event;\n    if (e.target)\n        targ = e.target;\n    else if (e.srcElement)\n        targ = e.srcElement;\n    if (targ.nodeType == 3) // defeat Safari bug\n        targ = targ.parentNode;\n\n    // jQuery normalizes the pageX and pageY\n    // pageX,Y are the mouse positions relative to the document\n    // offset() returns the position of the element relative to the document\n    var x = e.pageX - $(targ).offset().left;\n    var y = e.pageY - $(targ).offset().top;\n\n    return {\"x\": x, \"y\": y};\n};\n\n/*\n * return a copy of an object with only non-object keys\n * we need this to avoid circular references\n * http://stackoverflow.com/a/24161582/3208463\n */\nfunction simpleKeys (original) {\n  return Object.keys(original).reduce(function (obj, key) {\n    if (typeof original[key] !== 'object')\n        obj[key] = original[key]\n    return obj;\n  }, {});\n}\n\nmpl.figure.prototype.mouse_event = function(event, name) {\n    var canvas_pos = mpl.findpos(event)\n\n    if (name === 'button_press')\n    {\n        this.canvas.focus();\n        this.canvas_div.focus();\n    }\n\n    var x = canvas_pos.x * mpl.ratio;\n    var y = canvas_pos.y * mpl.ratio;\n\n    this.send_message(name, {x: x, y: y, button: event.button,\n                             step: event.step,\n                             guiEvent: simpleKeys(event)});\n\n    /* This prevents the web browser from automatically changing to\n     * the text insertion cursor when the button is pressed.  We want\n     * to control all of the cursor setting manually through the\n     * 'cursor' event from matplotlib */\n    event.preventDefault();\n    return false;\n}\n\nmpl.figure.prototype._key_event_extra = function(event, name) {\n    // Handle any extra behaviour associated with a key event\n}\n\nmpl.figure.prototype.key_event = function(event, name) {\n\n    // Prevent repeat events\n    if (name == 'key_press')\n    {\n        if (event.which === this._key)\n            return;\n        else\n            this._key = event.which;\n    }\n    if (name == 'key_release')\n        this._key = null;\n\n    var value = '';\n    if (event.ctrlKey && event.which != 17)\n        value += \"ctrl+\";\n    if (event.altKey && event.which != 18)\n        value += \"alt+\";\n    if (event.shiftKey && event.which != 16)\n        value += \"shift+\";\n\n    value += 'k';\n    value += event.which.toString();\n\n    this._key_event_extra(event, name);\n\n    this.send_message(name, {key: value,\n                             guiEvent: simpleKeys(event)});\n    return false;\n}\n\nmpl.figure.prototype.toolbar_button_onclick = function(name) {\n    if (name == 'download') {\n        this.handle_save(this, null);\n    } else {\n        this.send_message(\"toolbar_button\", {name: name});\n    }\n};\n\nmpl.figure.prototype.toolbar_button_onmouseover = function(tooltip) {\n    this.message.textContent = tooltip;\n};\nmpl.toolbar_items = [[\"Home\", \"Reset original view\", \"fa fa-home icon-home\", \"home\"], [\"Back\", \"Back to  previous view\", \"fa fa-arrow-left icon-arrow-left\", \"back\"], [\"Forward\", \"Forward to next view\", \"fa fa-arrow-right icon-arrow-right\", \"forward\"], [\"\", \"\", \"\", \"\"], [\"Pan\", \"Pan axes with left mouse, zoom with right\", \"fa fa-arrows icon-move\", \"pan\"], [\"Zoom\", \"Zoom to rectangle\", \"fa fa-square-o icon-check-empty\", \"zoom\"], [\"\", \"\", \"\", \"\"], [\"Download\", \"Download plot\", \"fa fa-floppy-o icon-save\", \"download\"]];\n\nmpl.extensions = [\"eps\", \"jpeg\", \"pdf\", \"png\", \"ps\", \"raw\", \"svg\", \"tif\"];\n\nmpl.default_extension = \"png\";var comm_websocket_adapter = function(comm) {\n    // Create a \"websocket\"-like object which calls the given IPython comm\n    // object with the appropriate methods. Currently this is a non binary\n    // socket, so there is still some room for performance tuning.\n    var ws = {};\n\n    ws.close = function() {\n        comm.close()\n    };\n    ws.send = function(m) {\n        //console.log('sending', m);\n        comm.send(m);\n    };\n    // Register the callback with on_msg.\n    comm.on_msg(function(msg) {\n        //console.log('receiving', msg['content']['data'], msg);\n        // Pass the mpl event to the overriden (by mpl) onmessage function.\n        ws.onmessage(msg['content']['data'])\n    });\n    return ws;\n}\n\nmpl.mpl_figure_comm = function(comm, msg) {\n    // This is the function which gets called when the mpl process\n    // starts-up an IPython Comm through the \"matplotlib\" channel.\n\n    var id = msg.content.data.id;\n    // Get hold of the div created by the display call when the Comm\n    // socket was opened in Python.\n    var element = $(\"#\" + id);\n    var ws_proxy = comm_websocket_adapter(comm)\n\n    function ondownload(figure, format) {\n        window.open(figure.imageObj.src);\n    }\n\n    var fig = new mpl.figure(id, ws_proxy,\n                           ondownload,\n                           element.get(0));\n\n    // Call onopen now - mpl needs it, as it is assuming we've passed it a real\n    // web socket which is closed, not our websocket->open comm proxy.\n    ws_proxy.onopen();\n\n    fig.parent_element = element.get(0);\n    fig.cell_info = mpl.find_output_cell(\"<div id='\" + id + \"'></div>\");\n    if (!fig.cell_info) {\n        console.error(\"Failed to find cell for figure\", id, fig);\n        return;\n    }\n\n    var output_index = fig.cell_info[2]\n    var cell = fig.cell_info[0];\n\n};\n\nmpl.figure.prototype.handle_close = function(fig, msg) {\n    var width = fig.canvas.width/mpl.ratio\n    fig.root.unbind('remove')\n\n    // Update the output cell to use the data from the current canvas.\n    fig.push_to_output();\n    var dataURL = fig.canvas.toDataURL();\n    // Re-enable the keyboard manager in IPython - without this line, in FF,\n    // the notebook keyboard shortcuts fail.\n    IPython.keyboard_manager.enable()\n    $(fig.parent_element).html('<img src=\"' + dataURL + '\" width=\"' + width + '\">');\n    fig.close_ws(fig, msg);\n}\n\nmpl.figure.prototype.close_ws = function(fig, msg){\n    fig.send_message('closing', msg);\n    // fig.ws.close()\n}\n\nmpl.figure.prototype.push_to_output = function(remove_interactive) {\n    // Turn the data on the canvas into data in the output cell.\n    var width = this.canvas.width/mpl.ratio\n    var dataURL = this.canvas.toDataURL();\n    this.cell_info[1]['text/html'] = '<img src=\"' + dataURL + '\" width=\"' + width + '\">';\n}\n\nmpl.figure.prototype.updated_canvas_event = function() {\n    // Tell IPython that the notebook contents must change.\n    IPython.notebook.set_dirty(true);\n    this.send_message(\"ack\", {});\n    var fig = this;\n    // Wait a second, then push the new image to the DOM so\n    // that it is saved nicely (might be nice to debounce this).\n    setTimeout(function () { fig.push_to_output() }, 1000);\n}\n\nmpl.figure.prototype._init_toolbar = function() {\n    var fig = this;\n\n    var nav_element = $('<div/>')\n    nav_element.attr('style', 'width: 100%');\n    this.root.append(nav_element);\n\n    // Define a callback function for later on.\n    function toolbar_event(event) {\n        return fig.toolbar_button_onclick(event['data']);\n    }\n    function toolbar_mouse_event(event) {\n        return fig.toolbar_button_onmouseover(event['data']);\n    }\n\n    for(var toolbar_ind in mpl.toolbar_items){\n        var name = mpl.toolbar_items[toolbar_ind][0];\n        var tooltip = mpl.toolbar_items[toolbar_ind][1];\n        var image = mpl.toolbar_items[toolbar_ind][2];\n        var method_name = mpl.toolbar_items[toolbar_ind][3];\n\n        if (!name) { continue; };\n\n        var button = $('<button class=\"btn btn-default\" href=\"#\" title=\"' + name + '\"><i class=\"fa ' + image + ' fa-lg\"></i></button>');\n        button.click(method_name, toolbar_event);\n        button.mouseover(tooltip, toolbar_mouse_event);\n        nav_element.append(button);\n    }\n\n    // Add the status bar.\n    var status_bar = $('<span class=\"mpl-message\" style=\"text-align:right; float: right;\"/>');\n    nav_element.append(status_bar);\n    this.message = status_bar[0];\n\n    // Add the close button to the window.\n    var buttongrp = $('<div class=\"btn-group inline pull-right\"></div>');\n    var button = $('<button class=\"btn btn-mini btn-primary\" href=\"#\" title=\"Stop Interaction\"><i class=\"fa fa-power-off icon-remove icon-large\"></i></button>');\n    button.click(function (evt) { fig.handle_close(fig, {}); } );\n    button.mouseover('Stop Interaction', toolbar_mouse_event);\n    buttongrp.append(button);\n    var titlebar = this.root.find($('.ui-dialog-titlebar'));\n    titlebar.prepend(buttongrp);\n}\n\nmpl.figure.prototype._root_extra_style = function(el){\n    var fig = this\n    el.on(\"remove\", function(){\n\tfig.close_ws(fig, {});\n    });\n}\n\nmpl.figure.prototype._canvas_extra_style = function(el){\n    // this is important to make the div 'focusable\n    el.attr('tabindex', 0)\n    // reach out to IPython and tell the keyboard manager to turn it's self\n    // off when our div gets focus\n\n    // location in version 3\n    if (IPython.notebook.keyboard_manager) {\n        IPython.notebook.keyboard_manager.register_events(el);\n    }\n    else {\n        // location in version 2\n        IPython.keyboard_manager.register_events(el);\n    }\n\n}\n\nmpl.figure.prototype._key_event_extra = function(event, name) {\n    var manager = IPython.notebook.keyboard_manager;\n    if (!manager)\n        manager = IPython.keyboard_manager;\n\n    // Check for shift+enter\n    if (event.shiftKey && event.which == 13) {\n        this.canvas_div.blur();\n        // select the cell after this one\n        var index = IPython.notebook.find_cell_index(this.cell_info[0]);\n        IPython.notebook.select(index + 1);\n    }\n}\n\nmpl.figure.prototype.handle_save = function(fig, msg) {\n    fig.ondownload(fig, null);\n}\n\n\nmpl.find_output_cell = function(html_output) {\n    // Return the cell and output element which can be found *uniquely* in the notebook.\n    // Note - this is a bit hacky, but it is done because the \"notebook_saving.Notebook\"\n    // IPython event is triggered only after the cells have been serialised, which for\n    // our purposes (turning an active figure into a static one), is too late.\n    var cells = IPython.notebook.get_cells();\n    var ncells = cells.length;\n    for (var i=0; i<ncells; i++) {\n        var cell = cells[i];\n        if (cell.cell_type === 'code'){\n            for (var j=0; j<cell.output_area.outputs.length; j++) {\n                var data = cell.output_area.outputs[j];\n                if (data.data) {\n                    // IPython >= 3 moved mimebundle to data attribute of output\n                    data = data.data;\n                }\n                if (data['text/html'] == html_output) {\n                    return [cell, data, j];\n                }\n            }\n        }\n    }\n}\n\n// Register the function which deals with the matplotlib target/channel.\n// The kernel may be null if the page has been refreshed.\nif (IPython.notebook.kernel != null) {\n    IPython.notebook.kernel.comm_manager.register_target('matplotlib', mpl.mpl_figure_comm);\n}\n",
      "text/plain": [
       "<IPython.core.display.Javascript object>"
      ]
     },
     "metadata": {},
     "output_type": "display_data"
    },
    {
     "data": {
      "text/html": [
       "<img src=\"data:image/png;base64,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\" width=\"640\">"
      ],
      "text/plain": [
       "<IPython.core.display.HTML object>"
      ]
     },
     "metadata": {},
     "output_type": "display_data"
    }
   ],
   "source": [
    "# we may wish to view the PageRank graphically.\n",
    "# This code will draw a bar chart, for each (numbered) website on the generated internet,\n",
    "# The height of each bar will be the score in the PageRank.\n",
    "# Run this code to see the PageRank for each internet we generate.\n",
    "# Hopefully we should see what we might expect\n",
    "# - there are a few clusters of important websites, but most on the internet are rubbish!\n",
    "%pylab project\n",
    "r = pageRank(generate_internet(100), 0.9)\n",
    "plt.bar(arange(r.shape[0]), r);"
   ]
  },
  {
   "cell_type": "code",
   "execution_count": null,
   "metadata": {
    "collapsed": true
   },
   "outputs": [],
   "source": []
  }
 ],
 "metadata": {
  "coursera": {
   "course_slug": "linear-algebra-machine-learning",
   "graded_item_id": "Sfbnp",
   "launcher_item_id": "aPxf3"
  },
  "kernelspec": {
   "display_name": "Python 3",
   "language": "python",
   "name": "python3"
  },
  "language_info": {
   "codemirror_mode": {
    "name": "ipython",
    "version": 3
   },
   "file_extension": ".py",
   "mimetype": "text/x-python",
   "name": "python",
   "nbconvert_exporter": "python",
   "pygments_lexer": "ipython3",
   "version": "3.6.2"
  }
 },
 "nbformat": 4,
 "nbformat_minor": 1
}
